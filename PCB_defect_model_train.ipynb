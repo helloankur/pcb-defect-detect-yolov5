{
  "nbformat": 4,
  "nbformat_minor": 0,
  "metadata": {
    "colab": {
      "name": "PCB defect model_train ",
      "provenance": [],
      "authorship_tag": "ABX9TyP7zWSgXltTnyO80a//AgQP",
      "include_colab_link": true
    },
    "kernelspec": {
      "name": "python3",
      "display_name": "Python 3"
    },
    "language_info": {
      "name": "python"
    }
  },
  "cells": [
    {
      "cell_type": "markdown",
      "metadata": {
        "id": "view-in-github",
        "colab_type": "text"
      },
      "source": [
        "<a href=\"https://colab.research.google.com/github/helloankur/pcb-defect-detect-yolov5-/blob/main/PCB_defect_model_train.ipynb\" target=\"_parent\"><img src=\"https://colab.research.google.com/assets/colab-badge.svg\" alt=\"Open In Colab\"/></a>"
      ]
    },
    {
      "cell_type": "code",
      "metadata": {
        "colab": {
          "base_uri": "https://localhost:8080/"
        },
        "id": "mkYAlLJR41Ms",
        "outputId": "a995743f-18df-427f-a109-59e87715a037"
      },
      "source": [
        "!git clone https://github.com/ultralytics/yolov5  # clone repo"
      ],
      "execution_count": 1,
      "outputs": [
        {
          "output_type": "stream",
          "text": [
            "fatal: destination path 'yolov5' already exists and is not an empty directory.\n"
          ],
          "name": "stdout"
        }
      ]
    },
    {
      "cell_type": "code",
      "metadata": {
        "colab": {
          "base_uri": "https://localhost:8080/"
        },
        "id": "1TcMGE3f4-r0",
        "outputId": "c618aadd-d52d-484b-8174-460569fd2192"
      },
      "source": [
        "!git clone https://github.com/tangsanli5201/DeepPCB.git"
      ],
      "execution_count": 2,
      "outputs": [
        {
          "output_type": "stream",
          "text": [
            "fatal: destination path 'DeepPCB' already exists and is not an empty directory.\n"
          ],
          "name": "stdout"
        }
      ]
    },
    {
      "cell_type": "code",
      "metadata": {
        "id": "p1vXa-8A5bbq"
      },
      "source": [
        "import yaml\n",
        "import glob\n",
        "import os\n",
        "import shutil\n",
        "from tqdm import tqdm\n",
        "import cv2\n",
        "import pandas as pd\n",
        "import numpy as np\n",
        "import random\n",
        "import matplotlib.pyplot as plt\n",
        "\n"
      ],
      "execution_count": 3,
      "outputs": []
    },
    {
      "cell_type": "code",
      "metadata": {
        "id": "lRe-ynLu7gNX"
      },
      "source": [
        ""
      ],
      "execution_count": 3,
      "outputs": []
    },
    {
      "cell_type": "code",
      "metadata": {
        "id": "E59wi2jd63F2"
      },
      "source": [
        "os.makedirs('/content/tmp/images/train', exist_ok=True)\n",
        "os.makedirs('/content/tmp/images/val', exist_ok=True)\n",
        "os.makedirs('/content/tmp/images/test', exist_ok=True)\n",
        "os.makedirs('/content/tmp/labels/train', exist_ok=True)\n",
        "os.makedirs('/content/tmp/labels/val', exist_ok=True)\n",
        "os.makedirs('/content/tmp/labels/test', exist_ok=True)"
      ],
      "execution_count": 4,
      "outputs": []
    },
    {
      "cell_type": "code",
      "metadata": {
        "colab": {
          "base_uri": "https://localhost:8080/"
        },
        "id": "SV06loRb5fJ7",
        "outputId": "e7a5cec8-948a-4bb1-dd68-76bd4cd90d81"
      },
      "source": [
        "# %cd yolov5\n",
        "%pip install -qr requirements.txt  # install dependencies\n",
        "\n",
        "import torch\n",
        "from IPython.display import Image, clear_output  # to display images\n",
        "\n",
        "clear_output()\n",
        "print(f\"Setup complete. Using torch {torch.__version__} ({torch.cuda.get_device_properties(0).name if torch.cuda.is_available() else 'CPU'})\")\n"
      ],
      "execution_count": 5,
      "outputs": [
        {
          "output_type": "stream",
          "text": [
            "Setup complete. Using torch 1.9.0+cu102 (CPU)\n"
          ],
          "name": "stdout"
        }
      ]
    },
    {
      "cell_type": "code",
      "metadata": {
        "id": "I4YizNwn5qVF"
      },
      "source": [
        "folder_img_dir = glob.glob('pcb_defect/DeepPCB-master/**/*.jpg', recursive=True)\n",
        "\n",
        "train_val = []\n",
        "test = []\n",
        "\n",
        "with open('/content/DeepPCB/PCBData/test.txt') as f:\n",
        "    for line in f.readlines():\n",
        "        test.append(line)\n",
        "\n",
        "with open('/content/DeepPCB/PCBData/trainval.txt') as f1:\n",
        "    for line in f1.readlines():\n",
        "        train_val.append(line)\n",
        "\n",
        "val_split = int(len(train_val) * 0.1)\n",
        "random.seed(101)\n",
        "random.shuffle(train_val)\n",
        "\n",
        "train = train_val[val_split:]  # create train dataset from train_val text file\n",
        "val = train_val[:val_split]  # create val dataset from train_val text file\n",
        "\n"
      ],
      "execution_count": 6,
      "outputs": []
    },
    {
      "cell_type": "code",
      "metadata": {
        "id": "_RqZCk2v52yv"
      },
      "source": [
        "def to_csv(data):\n",
        "    columns = list(data.keys())\n",
        "    values = list(data.values())\n",
        "    arr_len = len(values)\n",
        "    df = pd.DataFrame(np.array(values, dtype=object).reshape(1, arr_len), columns=columns).reset_index()\n",
        "    # print(df)\n",
        "    return df"
      ],
      "execution_count": 7,
      "outputs": []
    },
    {
      "cell_type": "code",
      "metadata": {
        "id": "J8DxY1-e6Uxp"
      },
      "source": [
        "df_all = []"
      ],
      "execution_count": 8,
      "outputs": []
    },
    {
      "cell_type": "code",
      "metadata": {
        "colab": {
          "base_uri": "https://localhost:8080/"
        },
        "id": "pEOW7vNf6Wub",
        "outputId": "172d4fc3-7ee0-4e22-b236-01bc254311d7"
      },
      "source": [
        "datasets = [train, val, test]\n",
        "dir_nme = ['train', 'val', 'test']\n",
        "for k in tqdm(datasets):\n",
        "    folder_num = (datasets.index(k))\n",
        "    for i in tqdm(k):\n",
        "        data = {}\n",
        "        for j in i.split(\" \"):\n",
        "            print_buffer = []\n",
        "            if '.jpg' in j:\n",
        "                path_jpg = '/content/DeepPCB/PCBData/' + j\n",
        "                head_img, tail_img = os.path.split(path_jpg)\n",
        "                # print(head)\n",
        "\n",
        "                org_name = (tail_img.strip('.jpg'))\n",
        "                # print(tail+'_test.jpg')\n",
        "\n",
        "                jpg_path = (head_img + '/' + org_name + '_test.jpg')\n",
        "                img_read = cv2.imread(jpg_path)\n",
        "                shutil.copy(jpg_path, '/content/tmp/images/' + str(dir_nme[folder_num]))\n",
        "                os.rename('/content/tmp/images/' + str(dir_nme[folder_num]) + '/' + org_name + '_test.jpg',\n",
        "                          '/content/tmp/images/' + str(dir_nme[folder_num]) + '/' + tail_img)\n",
        "\n",
        "            if '.txt' in j:\n",
        "                path_txt = '/content/DeepPCB/PCBData/' + j.strip('\\n')\n",
        "\n",
        "                with open(path_txt, 'r') as f:\n",
        "                    for line in f.readlines():\n",
        "                        annot = (line.strip(\"\\n\").split(\" \"))\n",
        "\n",
        "                        x_min = int(annot[0])\n",
        "                        y_min = int(annot[1])\n",
        "                        x_max = int(annot[2])\n",
        "                        y_max = int(annot[3])\n",
        "                        label = int(annot[4])\n",
        "\n",
        "                        # Transform the bbox co-ordinates as per the format required by YOLO v5\n",
        "                        b_center_x = (x_min + x_max) / 2\n",
        "                        b_center_y = (y_min + y_max) / 2\n",
        "                        b_width = (x_max - x_min)\n",
        "                        b_height = (y_max - y_min)\n",
        "\n",
        "                        # Normalise the co-ordinates by the dimensions of the image\n",
        "                        image_w, image_h, image_c = img_read.shape\n",
        "                        b_center_x /= image_w\n",
        "                        b_center_y /= image_h\n",
        "                        b_width /= image_w\n",
        "                        b_height /= image_h\n",
        "\n",
        "                        print_buffer.append(\n",
        "                            \"{} {:.3f} {:.3f} {:.3f} {:.3f}\".format(label, b_center_x, b_center_y, b_width, b_height))\n",
        "\n",
        "                        head_txt, tail_txt = os.path.split(path_txt)\n",
        "                        # print(tail_txt)\n",
        "\n",
        "                        print(\"\\n\".join(print_buffer),\n",
        "                              file=open('/content/tmp/labels/' + dir_nme[folder_num] + '/' + tail_txt.strip('\\n'), \"w\"))\n",
        "\n",
        "                        id = tail_txt.strip('.txt')\n",
        "\n",
        "                        data['id'] = id\n",
        "                        data['label'] = label\n",
        "                        data['x_min'] = x_min\n",
        "                        data['y_min'] = y_min\n",
        "                        data['x_max'] = x_max\n",
        "                        data['y_max'] = y_max\n",
        "                        data['b_center_x'] = b_center_x\n",
        "                        data['b_center_y'] = b_center_y\n",
        "                        data['b_width'] = b_width\n",
        "                        data['b_height'] = b_height\n",
        "                        data['image_w'] = image_w\n",
        "                        data['image_h'] = image_h\n",
        "                        data['split'] = dir_nme[folder_num]\n",
        "\n",
        "                        # Convert Dic data to  dataframe\n",
        "\n",
        "                        df = to_csv(data)\n",
        "                        df_all.append(df)\n",
        "\n",
        "\n",
        "\n",
        "final_df = pd.concat(df_all, ignore_index=True)\n",
        "\n",
        "del final_df['index']\n",
        "\n",
        "print(final_df)\n",
        "\n",
        "final_df.to_csv('meta.csv', index=False)\n"
      ],
      "execution_count": 9,
      "outputs": [
        {
          "output_type": "stream",
          "text": [
            "  0%|          | 0/3 [00:00<?, ?it/s]\n",
            "  0%|          | 0/900 [00:00<?, ?it/s]\u001b[A\n",
            "  1%|          | 6/900 [00:00<00:14, 60.00it/s]\u001b[A\n",
            "  1%|▏         | 12/900 [00:00<00:17, 51.41it/s]\u001b[A\n",
            "  2%|▏         | 19/900 [00:00<00:14, 58.77it/s]\u001b[A\n",
            "  3%|▎         | 25/900 [00:00<00:14, 59.01it/s]\u001b[A\n",
            "  3%|▎         | 31/900 [00:00<00:15, 57.56it/s]\u001b[A\n",
            "  4%|▍         | 37/900 [00:00<00:15, 55.13it/s]\u001b[A\n",
            "  5%|▍         | 44/900 [00:00<00:14, 58.68it/s]\u001b[A\n",
            "  6%|▌         | 50/900 [00:00<00:14, 58.08it/s]\u001b[A\n",
            "  6%|▌         | 56/900 [00:00<00:14, 58.34it/s]\u001b[A\n",
            "  7%|▋         | 63/900 [00:01<00:14, 59.56it/s]\u001b[A\n",
            "  8%|▊         | 69/900 [00:01<00:14, 56.75it/s]\u001b[A\n",
            "  8%|▊         | 75/900 [00:01<00:15, 54.99it/s]\u001b[A\n",
            "  9%|▉         | 82/900 [00:01<00:14, 57.54it/s]\u001b[A\n",
            " 10%|▉         | 88/900 [00:01<00:14, 55.63it/s]\u001b[A\n",
            " 10%|█         | 94/900 [00:01<00:15, 53.67it/s]\u001b[A\n",
            " 11%|█         | 100/900 [00:01<00:15, 50.67it/s]\u001b[A\n",
            " 12%|█▏        | 106/900 [00:01<00:15, 52.89it/s]\u001b[A\n",
            " 12%|█▏        | 112/900 [00:02<00:15, 52.37it/s]\u001b[A\n",
            " 13%|█▎        | 118/900 [00:02<00:14, 52.51it/s]\u001b[A\n",
            " 14%|█▍        | 125/900 [00:02<00:14, 55.04it/s]\u001b[A\n",
            " 15%|█▍        | 131/900 [00:02<00:14, 54.42it/s]\u001b[A\n",
            " 15%|█▌        | 138/900 [00:02<00:13, 55.87it/s]\u001b[A\n",
            " 16%|█▌        | 144/900 [00:02<00:13, 56.71it/s]\u001b[A\n",
            " 17%|█▋        | 150/900 [00:02<00:13, 56.86it/s]\u001b[A\n",
            " 17%|█▋        | 157/900 [00:02<00:12, 59.09it/s]\u001b[A\n",
            " 18%|█▊        | 163/900 [00:02<00:12, 57.56it/s]\u001b[A\n",
            " 19%|█▉        | 169/900 [00:03<00:12, 56.40it/s]\u001b[A\n",
            " 19%|█▉        | 175/900 [00:03<00:13, 55.29it/s]\u001b[A\n",
            " 20%|██        | 182/900 [00:03<00:12, 57.32it/s]\u001b[A\n",
            " 21%|██        | 188/900 [00:03<00:13, 54.58it/s]\u001b[A\n",
            " 22%|██▏       | 194/900 [00:03<00:12, 54.80it/s]\u001b[A\n",
            " 22%|██▏       | 200/900 [00:03<00:13, 53.65it/s]\u001b[A\n",
            " 23%|██▎       | 206/900 [00:03<00:12, 54.47it/s]\u001b[A\n",
            " 24%|██▎       | 212/900 [00:03<00:15, 45.34it/s]\u001b[A\n",
            " 24%|██▍       | 218/900 [00:03<00:13, 48.87it/s]\u001b[A\n",
            " 25%|██▍       | 224/900 [00:04<00:13, 51.44it/s]\u001b[A\n",
            " 26%|██▌       | 230/900 [00:04<00:12, 52.61it/s]\u001b[A\n",
            " 26%|██▌       | 236/900 [00:04<00:12, 51.86it/s]\u001b[A\n",
            " 27%|██▋       | 242/900 [00:04<00:12, 52.35it/s]\u001b[A\n",
            " 28%|██▊       | 249/900 [00:04<00:11, 56.66it/s]\u001b[A\n",
            " 28%|██▊       | 255/900 [00:04<00:11, 56.79it/s]\u001b[A\n",
            " 29%|██▉       | 261/900 [00:04<00:11, 53.99it/s]\u001b[A\n",
            " 30%|██▉       | 267/900 [00:04<00:11, 55.26it/s]\u001b[A\n",
            " 30%|███       | 274/900 [00:04<00:10, 57.37it/s]\u001b[A\n",
            " 31%|███       | 281/900 [00:05<00:10, 58.42it/s]\u001b[A\n",
            " 32%|███▏      | 287/900 [00:05<00:11, 54.95it/s]\u001b[A\n",
            " 33%|███▎      | 293/900 [00:05<00:11, 54.52it/s]\u001b[A\n",
            " 33%|███▎      | 299/900 [00:05<00:11, 53.74it/s]\u001b[A\n",
            " 34%|███▍      | 305/900 [00:05<00:10, 54.85it/s]\u001b[A\n",
            " 35%|███▍      | 311/900 [00:05<00:10, 55.64it/s]\u001b[A\n",
            " 35%|███▌      | 317/900 [00:05<00:11, 52.45it/s]\u001b[A\n",
            " 36%|███▌      | 324/900 [00:05<00:10, 55.39it/s]\u001b[A\n",
            " 37%|███▋      | 330/900 [00:06<00:10, 52.97it/s]\u001b[A\n",
            " 37%|███▋      | 336/900 [00:06<00:10, 52.37it/s]\u001b[A\n",
            " 38%|███▊      | 342/900 [00:06<00:11, 48.44it/s]\u001b[A\n",
            " 39%|███▊      | 348/900 [00:06<00:10, 50.20it/s]\u001b[A\n",
            " 39%|███▉      | 354/900 [00:06<00:10, 52.26it/s]\u001b[A\n",
            " 40%|████      | 360/900 [00:06<00:10, 51.65it/s]\u001b[A\n",
            " 41%|████      | 366/900 [00:06<00:10, 52.31it/s]\u001b[A\n",
            " 41%|████▏     | 373/900 [00:06<00:09, 55.01it/s]\u001b[A\n",
            " 42%|████▏     | 379/900 [00:06<00:09, 54.92it/s]\u001b[A\n",
            " 43%|████▎     | 386/900 [00:07<00:08, 57.14it/s]\u001b[A\n",
            " 44%|████▎     | 392/900 [00:07<00:09, 55.99it/s]\u001b[A\n",
            " 44%|████▍     | 398/900 [00:07<00:08, 56.01it/s]\u001b[A\n",
            " 45%|████▍     | 404/900 [00:07<00:08, 56.27it/s]\u001b[A\n",
            " 46%|████▌     | 410/900 [00:07<00:09, 54.13it/s]\u001b[A\n",
            " 46%|████▌     | 416/900 [00:07<00:08, 54.62it/s]\u001b[A\n",
            " 47%|████▋     | 423/900 [00:07<00:08, 57.12it/s]\u001b[A\n",
            " 48%|████▊     | 429/900 [00:07<00:08, 57.59it/s]\u001b[A\n",
            " 48%|████▊     | 435/900 [00:07<00:08, 56.45it/s]\u001b[A\n",
            " 49%|████▉     | 441/900 [00:08<00:08, 55.89it/s]\u001b[A\n",
            " 50%|████▉     | 447/900 [00:08<00:08, 56.08it/s]\u001b[A\n",
            " 50%|█████     | 453/900 [00:08<00:07, 56.34it/s]\u001b[A\n",
            " 51%|█████     | 459/900 [00:08<00:07, 55.19it/s]\u001b[A\n",
            " 52%|█████▏    | 465/900 [00:08<00:07, 54.97it/s]\u001b[A\n",
            " 52%|█████▏    | 472/900 [00:08<00:07, 57.22it/s]\u001b[A\n",
            " 53%|█████▎    | 478/900 [00:08<00:07, 57.21it/s]\u001b[A\n",
            " 54%|█████▍    | 484/900 [00:08<00:07, 55.96it/s]\u001b[A\n",
            " 54%|█████▍    | 490/900 [00:08<00:07, 56.20it/s]\u001b[A\n",
            " 55%|█████▌    | 496/900 [00:09<00:07, 54.29it/s]\u001b[A\n",
            " 56%|█████▌    | 502/900 [00:09<00:07, 53.66it/s]\u001b[A\n",
            " 56%|█████▋    | 508/900 [00:09<00:08, 45.98it/s]\u001b[A\n",
            " 57%|█████▋    | 515/900 [00:09<00:07, 49.87it/s]\u001b[A\n",
            " 58%|█████▊    | 521/900 [00:09<00:07, 52.25it/s]\u001b[A\n",
            " 59%|█████▊    | 527/900 [00:09<00:06, 54.24it/s]\u001b[A\n",
            " 59%|█████▉    | 533/900 [00:09<00:06, 53.56it/s]\u001b[A\n",
            " 60%|██████    | 540/900 [00:09<00:06, 57.11it/s]\u001b[A\n",
            " 61%|██████    | 546/900 [00:09<00:06, 55.92it/s]\u001b[A\n",
            " 61%|██████▏   | 552/900 [00:10<00:06, 55.35it/s]\u001b[A\n",
            " 62%|██████▏   | 558/900 [00:10<00:06, 55.91it/s]\u001b[A\n",
            " 63%|██████▎   | 564/900 [00:10<00:05, 56.98it/s]\u001b[A\n",
            " 63%|██████▎   | 570/900 [00:10<00:05, 57.03it/s]\u001b[A\n",
            " 64%|██████▍   | 577/900 [00:10<00:05, 58.91it/s]\u001b[A\n",
            " 65%|██████▍   | 583/900 [00:10<00:05, 58.09it/s]\u001b[A\n",
            " 65%|██████▌   | 589/900 [00:10<00:05, 56.18it/s]\u001b[A\n",
            " 66%|██████▌   | 595/900 [00:10<00:05, 55.24it/s]\u001b[A\n",
            " 67%|██████▋   | 602/900 [00:10<00:05, 56.88it/s]\u001b[A\n",
            " 68%|██████▊   | 608/900 [00:11<00:05, 56.52it/s]\u001b[A\n",
            " 68%|██████▊   | 614/900 [00:11<00:05, 55.98it/s]\u001b[A\n",
            " 69%|██████▉   | 620/900 [00:11<00:05, 51.69it/s]\u001b[A\n",
            " 70%|██████▉   | 626/900 [00:11<00:05, 52.44it/s]\u001b[A\n",
            " 70%|███████   | 632/900 [00:11<00:05, 52.97it/s]\u001b[A\n",
            " 71%|███████   | 639/900 [00:11<00:04, 56.00it/s]\u001b[A\n",
            " 72%|███████▏  | 645/900 [00:11<00:04, 54.80it/s]\u001b[A\n",
            " 72%|███████▏  | 652/900 [00:11<00:04, 56.75it/s]\u001b[A\n",
            " 73%|███████▎  | 658/900 [00:11<00:04, 55.41it/s]\u001b[A\n",
            " 74%|███████▍  | 664/900 [00:12<00:04, 55.50it/s]\u001b[A\n",
            " 74%|███████▍  | 670/900 [00:12<00:04, 54.69it/s]\u001b[A\n",
            " 75%|███████▌  | 676/900 [00:12<00:04, 53.90it/s]\u001b[A\n",
            " 76%|███████▌  | 683/900 [00:12<00:03, 56.89it/s]\u001b[A\n",
            " 77%|███████▋  | 689/900 [00:12<00:03, 54.22it/s]\u001b[A\n",
            " 77%|███████▋  | 695/900 [00:12<00:03, 53.07it/s]\u001b[A\n",
            " 78%|███████▊  | 701/900 [00:12<00:03, 54.03it/s]\u001b[A\n",
            " 79%|███████▊  | 707/900 [00:12<00:03, 54.06it/s]\u001b[A\n",
            " 79%|███████▉  | 713/900 [00:13<00:03, 53.67it/s]\u001b[A\n",
            " 80%|███████▉  | 719/900 [00:13<00:03, 53.76it/s]\u001b[A\n",
            " 81%|████████  | 725/900 [00:13<00:03, 54.43it/s]\u001b[A\n",
            " 81%|████████  | 731/900 [00:13<00:03, 52.17it/s]\u001b[A\n",
            " 82%|████████▏ | 737/900 [00:13<00:03, 50.46it/s]\u001b[A\n",
            " 83%|████████▎ | 743/900 [00:13<00:03, 51.10it/s]\u001b[A\n",
            " 83%|████████▎ | 749/900 [00:13<00:02, 50.47it/s]\u001b[A\n",
            " 84%|████████▍ | 755/900 [00:13<00:02, 50.41it/s]\u001b[A\n",
            " 85%|████████▍ | 761/900 [00:13<00:02, 50.32it/s]\u001b[A\n",
            " 85%|████████▌ | 767/900 [00:14<00:02, 52.65it/s]\u001b[A\n",
            " 86%|████████▌ | 773/900 [00:14<00:02, 54.44it/s]\u001b[A\n",
            " 87%|████████▋ | 779/900 [00:14<00:02, 48.58it/s]\u001b[A\n",
            " 87%|████████▋ | 785/900 [00:14<00:02, 50.99it/s]\u001b[A\n",
            " 88%|████████▊ | 792/900 [00:14<00:01, 55.73it/s]\u001b[A\n",
            " 89%|████████▉ | 799/900 [00:14<00:01, 57.01it/s]\u001b[A\n",
            " 89%|████████▉ | 805/900 [00:14<00:01, 57.30it/s]\u001b[A\n",
            " 90%|█████████ | 812/900 [00:14<00:01, 58.69it/s]\u001b[A\n",
            " 91%|█████████ | 819/900 [00:14<00:01, 58.91it/s]\u001b[A\n",
            " 92%|█████████▏| 825/900 [00:15<00:01, 58.89it/s]\u001b[A\n",
            " 92%|█████████▏| 831/900 [00:15<00:01, 54.76it/s]\u001b[A\n",
            " 93%|█████████▎| 837/900 [00:15<00:01, 55.67it/s]\u001b[A\n",
            " 94%|█████████▎| 843/900 [00:15<00:01, 55.16it/s]\u001b[A\n",
            " 94%|█████████▍| 849/900 [00:15<00:00, 55.47it/s]\u001b[A\n",
            " 95%|█████████▌| 855/900 [00:15<00:00, 56.13it/s]\u001b[A\n",
            " 96%|█████████▌| 861/900 [00:15<00:00, 54.22it/s]\u001b[A\n",
            " 96%|█████████▋| 867/900 [00:15<00:00, 44.02it/s]\u001b[A\n",
            " 97%|█████████▋| 873/900 [00:16<00:00, 46.68it/s]\u001b[A\n",
            " 98%|█████████▊| 879/900 [00:16<00:00, 49.55it/s]\u001b[A\n",
            " 98%|█████████▊| 885/900 [00:16<00:00, 52.02it/s]\u001b[A\n",
            " 99%|█████████▉| 891/900 [00:16<00:00, 51.61it/s]\u001b[A\n",
            "100%|██████████| 900/900 [00:16<00:00, 54.37it/s]\n",
            " 33%|███▎      | 1/3 [00:16<00:33, 16.57s/it]\n",
            "  0%|          | 0/100 [00:00<?, ?it/s]\u001b[A\n",
            "  4%|▍         | 4/100 [00:00<00:02, 36.70it/s]\u001b[A\n",
            " 10%|█         | 10/100 [00:00<00:01, 49.57it/s]\u001b[A\n",
            " 16%|█▌        | 16/100 [00:00<00:01, 52.23it/s]\u001b[A\n",
            " 22%|██▏       | 22/100 [00:00<00:01, 54.70it/s]\u001b[A\n",
            " 28%|██▊       | 28/100 [00:00<00:01, 50.85it/s]\u001b[A\n",
            " 34%|███▍      | 34/100 [00:00<00:01, 52.82it/s]\u001b[A\n",
            " 40%|████      | 40/100 [00:00<00:01, 52.57it/s]\u001b[A\n",
            " 46%|████▌     | 46/100 [00:00<00:01, 52.02it/s]\u001b[A\n",
            " 52%|█████▏    | 52/100 [00:01<00:00, 51.93it/s]\u001b[A\n",
            " 59%|█████▉    | 59/100 [00:01<00:00, 53.75it/s]\u001b[A\n",
            " 65%|██████▌   | 65/100 [00:01<00:00, 52.31it/s]\u001b[A\n",
            " 71%|███████   | 71/100 [00:01<00:00, 50.93it/s]\u001b[A\n",
            " 78%|███████▊  | 78/100 [00:01<00:00, 54.73it/s]\u001b[A\n",
            " 84%|████████▍ | 84/100 [00:01<00:00, 56.10it/s]\u001b[A\n",
            " 90%|█████████ | 90/100 [00:01<00:00, 53.49it/s]\u001b[A\n",
            "100%|██████████| 100/100 [00:01<00:00, 52.78it/s]\n",
            " 67%|██████▋   | 2/3 [00:18<00:07,  7.95s/it]\n",
            "  0%|          | 0/500 [00:00<?, ?it/s]\u001b[A\n",
            "  1%|          | 6/500 [00:00<00:09, 51.89it/s]\u001b[A\n",
            "  2%|▏         | 12/500 [00:00<00:09, 53.68it/s]\u001b[A\n",
            "  4%|▎         | 18/500 [00:00<00:08, 55.26it/s]\u001b[A\n",
            "  5%|▌         | 25/500 [00:00<00:08, 58.17it/s]\u001b[A\n",
            "  6%|▋         | 32/500 [00:00<00:07, 59.68it/s]\u001b[A\n",
            "  8%|▊         | 39/500 [00:00<00:07, 60.74it/s]\u001b[A\n",
            "  9%|▉         | 46/500 [00:00<00:08, 51.56it/s]\u001b[A\n",
            " 11%|█         | 53/500 [00:00<00:08, 55.14it/s]\u001b[A\n",
            " 12%|█▏        | 60/500 [00:01<00:07, 58.50it/s]\u001b[A\n",
            " 14%|█▎        | 68/500 [00:01<00:06, 62.37it/s]\u001b[A\n",
            " 15%|█▌        | 75/500 [00:01<00:06, 63.37it/s]\u001b[A\n",
            " 17%|█▋        | 83/500 [00:01<00:06, 66.09it/s]\u001b[A\n",
            " 18%|█▊        | 90/500 [00:01<00:06, 64.00it/s]\u001b[A\n",
            " 19%|█▉        | 97/500 [00:01<00:06, 63.86it/s]\u001b[A\n",
            " 21%|██        | 104/500 [00:01<00:06, 64.90it/s]\u001b[A\n",
            " 22%|██▏       | 111/500 [00:01<00:06, 64.48it/s]\u001b[A\n",
            " 24%|██▎       | 118/500 [00:01<00:06, 63.38it/s]\u001b[A\n",
            " 25%|██▌       | 125/500 [00:02<00:06, 59.66it/s]\u001b[A\n",
            " 26%|██▋       | 132/500 [00:02<00:06, 57.41it/s]\u001b[A\n",
            " 28%|██▊       | 138/500 [00:02<00:06, 57.02it/s]\u001b[A\n",
            " 29%|██▉       | 144/500 [00:02<00:06, 55.79it/s]\u001b[A\n",
            " 30%|███       | 150/500 [00:02<00:06, 56.86it/s]\u001b[A\n",
            " 31%|███       | 156/500 [00:02<00:06, 56.90it/s]\u001b[A\n",
            " 32%|███▏      | 162/500 [00:02<00:05, 56.37it/s]\u001b[A\n",
            " 34%|███▎      | 168/500 [00:02<00:06, 53.80it/s]\u001b[A\n",
            " 35%|███▍      | 174/500 [00:02<00:06, 52.03it/s]\u001b[A\n",
            " 36%|███▌      | 180/500 [00:03<00:06, 48.65it/s]\u001b[A\n",
            " 37%|███▋      | 185/500 [00:03<00:06, 47.77it/s]\u001b[A\n",
            " 38%|███▊      | 190/500 [00:03<00:06, 48.14it/s]\u001b[A\n",
            " 39%|███▉      | 197/500 [00:03<00:05, 53.41it/s]\u001b[A\n",
            " 41%|████      | 204/500 [00:03<00:05, 56.84it/s]\u001b[A\n",
            " 42%|████▏     | 211/500 [00:03<00:04, 58.92it/s]\u001b[A\n",
            " 43%|████▎     | 217/500 [00:03<00:04, 58.13it/s]\u001b[A\n",
            " 45%|████▍     | 223/500 [00:03<00:04, 57.70it/s]\u001b[A\n",
            " 46%|████▌     | 229/500 [00:03<00:04, 57.44it/s]\u001b[A\n",
            " 47%|████▋     | 236/500 [00:04<00:04, 58.49it/s]\u001b[A\n",
            " 49%|████▊     | 243/500 [00:04<00:04, 60.46it/s]\u001b[A\n",
            " 50%|█████     | 250/500 [00:04<00:04, 57.99it/s]\u001b[A\n",
            " 51%|█████▏    | 257/500 [00:04<00:04, 59.53it/s]\u001b[A\n",
            " 53%|█████▎    | 263/500 [00:04<00:04, 57.74it/s]\u001b[A\n",
            " 54%|█████▍    | 269/500 [00:04<00:03, 57.89it/s]\u001b[A\n",
            " 55%|█████▌    | 275/500 [00:04<00:03, 57.73it/s]\u001b[A\n",
            " 56%|█████▌    | 281/500 [00:04<00:03, 58.00it/s]\u001b[A\n",
            " 58%|█████▊    | 288/500 [00:04<00:03, 59.83it/s]\u001b[A\n",
            " 59%|█████▉    | 295/500 [00:05<00:03, 61.29it/s]\u001b[A\n",
            " 60%|██████    | 302/500 [00:05<00:03, 59.15it/s]\u001b[A\n",
            " 62%|██████▏   | 308/500 [00:05<00:03, 59.06it/s]\u001b[A\n",
            " 63%|██████▎   | 315/500 [00:05<00:03, 61.28it/s]\u001b[A\n",
            " 64%|██████▍   | 322/500 [00:05<00:02, 61.72it/s]\u001b[A\n",
            " 66%|██████▌   | 329/500 [00:05<00:02, 61.90it/s]\u001b[A\n",
            " 67%|██████▋   | 336/500 [00:05<00:03, 51.06it/s]\u001b[A\n",
            " 68%|██████▊   | 342/500 [00:05<00:02, 53.00it/s]\u001b[A\n",
            " 70%|██████▉   | 348/500 [00:06<00:02, 53.24it/s]\u001b[A\n",
            " 71%|███████   | 354/500 [00:06<00:02, 53.69it/s]\u001b[A\n",
            " 72%|███████▏  | 360/500 [00:06<00:02, 54.64it/s]\u001b[A\n",
            " 73%|███████▎  | 367/500 [00:06<00:02, 56.61it/s]\u001b[A\n",
            " 75%|███████▍  | 374/500 [00:06<00:02, 59.29it/s]\u001b[A\n",
            " 76%|███████▌  | 380/500 [00:06<00:02, 58.43it/s]\u001b[A\n",
            " 77%|███████▋  | 386/500 [00:06<00:02, 56.32it/s]\u001b[A\n",
            " 78%|███████▊  | 392/500 [00:06<00:01, 56.51it/s]\u001b[A\n",
            " 80%|███████▉  | 399/500 [00:06<00:01, 59.68it/s]\u001b[A\n",
            " 81%|████████  | 406/500 [00:07<00:01, 60.65it/s]\u001b[A\n",
            " 83%|████████▎ | 413/500 [00:07<00:01, 59.46it/s]\u001b[A\n",
            " 84%|████████▍ | 419/500 [00:07<00:01, 58.09it/s]\u001b[A\n",
            " 85%|████████▌ | 425/500 [00:07<00:01, 58.62it/s]\u001b[A\n",
            " 86%|████████▋ | 432/500 [00:07<00:01, 59.78it/s]\u001b[A\n",
            " 88%|████████▊ | 439/500 [00:07<00:01, 60.71it/s]\u001b[A\n",
            " 89%|████████▉ | 446/500 [00:07<00:00, 59.70it/s]\u001b[A\n",
            " 90%|█████████ | 452/500 [00:07<00:00, 57.72it/s]\u001b[A\n",
            " 92%|█████████▏| 458/500 [00:07<00:00, 57.61it/s]\u001b[A\n",
            " 93%|█████████▎| 464/500 [00:08<00:00, 57.44it/s]\u001b[A\n",
            " 94%|█████████▍| 471/500 [00:08<00:00, 58.83it/s]\u001b[A\n",
            " 95%|█████████▌| 477/500 [00:08<00:00, 58.51it/s]\u001b[A\n",
            " 97%|█████████▋| 483/500 [00:08<00:00, 57.10it/s]\u001b[A\n",
            " 98%|█████████▊| 489/500 [00:08<00:00, 55.90it/s]\u001b[A\n",
            "100%|██████████| 500/500 [00:08<00:00, 57.73it/s]\n",
            "100%|██████████| 3/3 [00:27<00:00,  9.05s/it]\n"
          ],
          "name": "stderr"
        },
        {
          "output_type": "stream",
          "text": [
            "             id label x_min y_min  ...   b_height image_w image_h  split\n",
            "0      20085138     1    81   467  ...   0.059375     640     640  train\n",
            "1      20085138     2    52   564  ...  0.0453125     640     640  train\n",
            "2      20085138     2     4   568  ...  0.0484375     640     640  train\n",
            "3      20085138     4   266   486  ...   0.046875     640     640  train\n",
            "4      20085138     4   410   529  ...  0.0453125     640     640  train\n",
            "...         ...   ...   ...   ...  ...        ...     ...     ...    ...\n",
            "10008  12000593     1   271   349  ...    0.06875     640     640   test\n",
            "10009  12000593     2   182   160  ...   0.071875     640     640   test\n",
            "10010  12000593     2   330   131  ...  0.0546875     640     640   test\n",
            "10011  12000593     3   375   180  ...       0.05     640     640   test\n",
            "10012  12000593     4   329   274  ...    0.04375     640     640   test\n",
            "\n",
            "[10013 rows x 13 columns]\n"
          ],
          "name": "stdout"
        }
      ]
    },
    {
      "cell_type": "code",
      "metadata": {
        "colab": {
          "base_uri": "https://localhost:8080/"
        },
        "id": "p49KE03k6ZHy",
        "outputId": "19463745-21c9-4f4a-a0ab-9a853e76e9a9"
      },
      "source": [
        "os.listdir('/content/yolov5/data')"
      ],
      "execution_count": 10,
      "outputs": [
        {
          "output_type": "execute_result",
          "data": {
            "text/plain": [
              "['Objects365.yaml',\n",
              " 'coco128.yaml',\n",
              " 'SKU-110K.yaml',\n",
              " 'VisDrone.yaml',\n",
              " 'coco.yaml',\n",
              " 'VOC.yaml',\n",
              " 'GlobalWheat2020.yaml',\n",
              " 'Argoverse.yaml',\n",
              " 'images',\n",
              " 'hyps',\n",
              " 'scripts',\n",
              " 'xView.yaml']"
            ]
          },
          "metadata": {},
          "execution_count": 10
        }
      ]
    },
    {
      "cell_type": "code",
      "metadata": {
        "id": "T21w14P29Jpl"
      },
      "source": [
        "data_yaml=dict(train='/content/tmp/images/train',\n",
        "               val='/content/tmp/images/val',\n",
        "               test='/content/tmp/images/test',\n",
        "               nc=7,\n",
        "               names=[\"background\",\"open\", \"short\", \"mousebite\", \"spur\", \"copper\",  \"pin-hole\"])"
      ],
      "execution_count": 12,
      "outputs": []
    },
    {
      "cell_type": "code",
      "metadata": {
        "id": "amZn6SVQ9Xn8"
      },
      "source": [
        "with open (\"/content/yolov5/data/data.yaml\",'w') as outfile:\n",
        "  yaml.dump(data_yaml,outfile,default_flow_style=True)"
      ],
      "execution_count": 13,
      "outputs": []
    },
    {
      "cell_type": "code",
      "metadata": {
        "colab": {
          "base_uri": "https://localhost:8080/"
        },
        "id": "7pG-v0NH9bG1",
        "outputId": "eed37124-cffc-4c96-fb76-bdea683a5cfe"
      },
      "source": [
        "with open (\"/content/yolov5/data/data.yaml\",'r') as f:\n",
        "  for line in f:\n",
        "    print(line)"
      ],
      "execution_count": 14,
      "outputs": [
        {
          "output_type": "stream",
          "text": [
            "{names: [background, open, short, mousebite, spur, copper, pin-hole], nc: 7, test: /content/tmp/images/test,\n",
            "\n",
            "  train: /content/tmp/images/train, val: /content/tmp/images/val}\n",
            "\n"
          ],
          "name": "stdout"
        }
      ]
    },
    {
      "cell_type": "code",
      "metadata": {
        "colab": {
          "base_uri": "https://localhost:8080/"
        },
        "id": "XBwFB3pi9miS",
        "outputId": "a807785d-8b44-46bf-9dd0-c4bbdd159214"
      },
      "source": [
        "%cd yolov5"
      ],
      "execution_count": 15,
      "outputs": [
        {
          "output_type": "stream",
          "text": [
            "/content/yolov5\n"
          ],
          "name": "stdout"
        }
      ]
    },
    {
      "cell_type": "code",
      "metadata": {
        "colab": {
          "base_uri": "https://localhost:8080/"
        },
        "id": "zOQwnFGk9igU",
        "outputId": "9e3b4e68-2fe4-49c0-e98a-179fe8f2c22a"
      },
      "source": [
        "!python train.py --img 640 \\\n",
        "                 --batch 4 \\\n",
        "                 --epochs 20 \\\n",
        "                 --data data.yaml \\\n",
        "                 --weights yolov5l.pt \\\n",
        "                 --project PCB_fault_detect "
      ],
      "execution_count": null,
      "outputs": [
        {
          "output_type": "stream",
          "text": [
            "\u001b[34m\u001b[1mtrain: \u001b[0mweights=yolov5l.pt, cfg=, data=data.yaml, hyp=data/hyps/hyp.scratch.yaml, epochs=20, batch_size=4, imgsz=640, rect=False, resume=False, nosave=False, noval=False, noautoanchor=False, evolve=None, bucket=, cache=None, image_weights=False, device=, multi_scale=False, single_cls=False, adam=False, sync_bn=False, workers=8, project=PCB_fault_detect, entity=None, name=exp, exist_ok=False, quad=False, linear_lr=False, label_smoothing=0.0, upload_dataset=False, bbox_interval=-1, save_period=-1, artifact_alias=latest, local_rank=-1, freeze=0\n",
            "\u001b[34m\u001b[1mgithub: \u001b[0mup to date with https://github.com/ultralytics/yolov5 ✅\n",
            "YOLOv5 🚀 v5.0-380-g11f85e7 torch 1.9.0+cu102 CPU\n",
            "\n",
            "\u001b[34m\u001b[1mhyperparameters: \u001b[0mlr0=0.01, lrf=0.2, momentum=0.937, weight_decay=0.0005, warmup_epochs=3.0, warmup_momentum=0.8, warmup_bias_lr=0.1, box=0.05, cls=0.5, cls_pw=1.0, obj=1.0, obj_pw=1.0, iou_t=0.2, anchor_t=4.0, fl_gamma=0.0, hsv_h=0.015, hsv_s=0.7, hsv_v=0.4, degrees=0.0, translate=0.1, scale=0.5, shear=0.0, perspective=0.0, flipud=0.0, fliplr=0.5, mosaic=1.0, mixup=0.0, copy_paste=0.0\n",
            "\u001b[34m\u001b[1mWeights & Biases: \u001b[0mrun 'pip install wandb' to automatically track and visualize YOLOv5 🚀 runs (RECOMMENDED)\n",
            "\u001b[34m\u001b[1mTensorBoard: \u001b[0mStart with 'tensorboard --logdir PCB_fault_detect', view at http://localhost:6006/\n",
            "Downloading https://github.com/ultralytics/yolov5/releases/download/v5.0/yolov5l.pt to yolov5l.pt...\n",
            "100% 90.2M/90.2M [00:03<00:00, 27.7MB/s]\n",
            "\n",
            "Overriding model.yaml nc=80 with nc=7\n",
            "\n",
            "                 from  n    params  module                                  arguments                     \n",
            "  0                -1  1      7040  models.common.Focus                     [3, 64, 3]                    \n",
            "  1                -1  1     73984  models.common.Conv                      [64, 128, 3, 2]               \n",
            "  2                -1  3    156928  models.common.C3                        [128, 128, 3]                 \n",
            "  3                -1  1    295424  models.common.Conv                      [128, 256, 3, 2]              \n",
            "  4                -1  9   1611264  models.common.C3                        [256, 256, 9]                 \n",
            "  5                -1  1   1180672  models.common.Conv                      [256, 512, 3, 2]              \n",
            "  6                -1  9   6433792  models.common.C3                        [512, 512, 9]                 \n",
            "  7                -1  1   4720640  models.common.Conv                      [512, 1024, 3, 2]             \n",
            "  8                -1  1   2624512  models.common.SPP                       [1024, 1024, [5, 9, 13]]      \n",
            "  9                -1  3   9971712  models.common.C3                        [1024, 1024, 3, False]        \n",
            " 10                -1  1    525312  models.common.Conv                      [1024, 512, 1, 1]             \n",
            " 11                -1  1         0  torch.nn.modules.upsampling.Upsample    [None, 2, 'nearest']          \n",
            " 12           [-1, 6]  1         0  models.common.Concat                    [1]                           \n",
            " 13                -1  3   2757632  models.common.C3                        [1024, 512, 3, False]         \n",
            " 14                -1  1    131584  models.common.Conv                      [512, 256, 1, 1]              \n",
            " 15                -1  1         0  torch.nn.modules.upsampling.Upsample    [None, 2, 'nearest']          \n",
            " 16           [-1, 4]  1         0  models.common.Concat                    [1]                           \n",
            " 17                -1  3    690688  models.common.C3                        [512, 256, 3, False]          \n",
            " 18                -1  1    590336  models.common.Conv                      [256, 256, 3, 2]              \n",
            " 19          [-1, 14]  1         0  models.common.Concat                    [1]                           \n",
            " 20                -1  3   2495488  models.common.C3                        [512, 512, 3, False]          \n",
            " 21                -1  1   2360320  models.common.Conv                      [512, 512, 3, 2]              \n",
            " 22          [-1, 10]  1         0  models.common.Concat                    [1]                           \n",
            " 23                -1  3   9971712  models.common.C3                        [1024, 1024, 3, False]        \n",
            " 24      [17, 20, 23]  1     64620  models.yolo.Detect                      [7, [[10, 13, 16, 30, 33, 23], [30, 61, 62, 45, 59, 119], [116, 90, 156, 198, 373, 326]], [256, 512, 1024]]\n",
            "Model Summary: 499 layers, 46663660 parameters, 46663660 gradients, 114.3 GFLOPs\n",
            "\n",
            "Transferred 644/650 items from yolov5l.pt\n",
            "Scaled weight_decay = 0.0005\n",
            "\u001b[34m\u001b[1moptimizer:\u001b[0m SGD with parameter groups 107 weight, 110 weight (no decay), 110 bias\n",
            "\u001b[34m\u001b[1malbumentations: \u001b[0mversion 1.0.3 required by YOLOv5, but version 0.1.12 is currently installed\n",
            "\u001b[34m\u001b[1mtrain: \u001b[0mScanning '/content/tmp/labels/train' images and labels...900 found, 0 missing, 0 empty, 0 corrupted: 100% 900/900 [00:00<00:00, 2124.04it/s]\n",
            "\u001b[34m\u001b[1mtrain: \u001b[0mNew cache created: /content/tmp/labels/train.cache\n",
            "\u001b[34m\u001b[1mval: \u001b[0mScanning '/content/tmp/labels/val' images and labels...100 found, 0 missing, 0 empty, 0 corrupted: 100% 100/100 [00:00<00:00, 605.01it/s]\n",
            "\u001b[34m\u001b[1mval: \u001b[0mNew cache created: /content/tmp/labels/val.cache\n",
            "Plotting labels... \n",
            "\n",
            "\u001b[34m\u001b[1mautoanchor: \u001b[0mAnalyzing anchors... anchors/target = 6.14, Best Possible Recall (BPR) = 1.0000\n",
            "Image sizes 640 train, 640 val\n",
            "Using 2 dataloader workers\n",
            "Logging results to PCB_fault_detect/exp\n",
            "Starting training for 20 epochs...\n",
            "\n",
            "     Epoch   gpu_mem       box       obj       cls    labels  img_size\n",
            "  0% 0/225 [00:00<?, ?it/s]"
          ],
          "name": "stdout"
        }
      ]
    },
    {
      "cell_type": "code",
      "metadata": {
        "id": "xd-lJyNj9pXY"
      },
      "source": [
        ""
      ],
      "execution_count": null,
      "outputs": []
    }
  ]
}